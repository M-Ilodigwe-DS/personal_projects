{
 "cells": [
  {
   "cell_type": "markdown",
   "metadata": {},
   "source": [
    "# Lab 1: Introduction to Jupyter notebooks\n",
    "\n",
    "### Population Health Data Science II Algorithms Lab\n"
   ]
  },
  {
   "cell_type": "markdown",
   "metadata": {},
   "source": [
    "Welcome to the Population Health Data Science II Algorithms Lab. This lab will familiarize you with working in the Jupyter notebook environment, a task you'll be doing extensively throughout the semester."
   ]
  },
  {
   "cell_type": "markdown",
   "metadata": {},
   "source": [
    "The following exercises constitute your lab work for this week. Typically, you'll have a pre-made notebook in the future, where you'll input your answers in code or Markdown cells. Alternatively, you might receive lab instructions and problems in a PDF format, and you'll provide your responses in the Jupyter notebook. However, for this week, please adhere to the following instructions to create your own notebook."
   ]
  },
  {
   "cell_type": "markdown",
   "metadata": {},
   "source": [
    "---\n",
    "\n",
    "## **Exercise 1: Creating a new notebook**\n",
    "\n",
    "1. Go to File and select \"New Notebook\" to generate a new Jupyter Notebook file. Ensure that you select the \"Python 3\" kernel.\n",
    "\n",
    "2. Look in the file browser, click on \"Untitled.ipynb\", Change the name of the file to \"`<firstname-lastname>-lab-number.ipynb`\" (Example: gideon-gogovi-lab-0.ipynb) and click \"Rename\".\n",
    "\n",
    "3. Change the first cell in your new notebook to a Markdown cell by selecting \"Markdown\" from the menu that is labeled \"Code\".\n",
    "\n",
    "5. Try writing some Markdown (and creating a title by using `#` and text after it) and executing it with Shift-Enter.\n",
    "\n",
    "---\n"
   ]
  },
  {
   "cell_type": "markdown",
   "metadata": {},
   "source": [
    "## Saving your work\n",
    "\n",
    "JupyterHub autosaves your work by default, but we recommend saving frequently. The save icon is the floppy icon."
   ]
  },
  {
   "cell_type": "markdown",
   "metadata": {},
   "source": [
    "---\n",
    "\n",
    "## **Exercise 2: Typing in Markdown**\n",
    "\n",
    "For your reference, here is a [Markdown cheatsheet](https://github.com/adam-p/markdown-here/wiki/Markdown-Cheatsheet).\n",
    "\n",
    "1. In the top cell, create a level 1 header and title your notebook. You can give it any title you want.\n",
    "2. Below the title, make a list with your name, your lab partner's name and today's date.\n",
    "3. Create a new Markdown cell with the text: `## First Markdown Exercises.` at the top.\n",
    "4. Write a brief paragraph answering the following. Include **bold** and *italic* text.\n",
    "\n",
    "    * Why you are interested in learning Population Health Data Science.\n",
    "    * Make a Markdown list of 3 topics you look forward to learning in this course or BSTA 101.\n",
    "During your writing, feel free to use other Markdown styles or test out anything fancy."
   ]
  },
  {
   "cell_type": "markdown",
   "metadata": {},
   "source": [
    "---\n",
    "\n",
    "## **Exercise 3: More of Typing in Markdown**\n",
    "\n",
    "1. Create a new Markdown cell.\n",
    "2. Now visit https://giphy.com/ and find an animated gif that represents how you feel about BSTA 101-103 then Copy Link from the page. \n",
    "3. Use Markdown image notation to insert the GIF you found into the Markdown cell. (*Hint: it's a lot like link notation but more excited.*)\n",
    "   ![happy](https://media.giphy.com/media/l3V0lsGtTMSB5YNgc/giphy.gif)\n",
    "5. Create one more Markdown cell and insert the following text: `---`\n",
    "\n",
    "---"
   ]
  },
  {
   "cell_type": "code",
   "execution_count": 1,
   "metadata": {},
   "outputs": [],
   "source": [
    "print(\"Hello! This is a code cell. Change something here and execute again.\")"
   ]
  },
  {
   "cell_type": "markdown",
   "metadata": {},
   "source": [
    "---\n",
    "\n",
    "## **Exercise 4: Code execution in Jupyter Notebook**\n",
    "\n",
    "1. Create a new Markdown cell with just the following text:    \n",
    "`## Jupyter Notebook Exercises`\n",
    "2. Create a new code cell, then copy the following Python code into the cell and execute it:    \n",
    "`name = input(prompt=\"What is your name? \")`    \n",
    "`print(\"Hello\", name, \"!\")`\n",
    "3. Create a Markdown cell underneath the code cell you just executed and describe (in your own words) what happened when you ran that code.\n",
    "4. Copy the code to a new cell, make modifications, and execute to observe outcomes. Experiment without concern for errors.\n",
    "6. Create a Markdown cell underneath the code cell you just executed and describe what happened. \n",
    "    * What did you try and modify? \n",
    "    * Did you get an error or did it run successfully?"
   ]
  },
  {
   "cell_type": "markdown",
   "metadata": {},
   "source": [
    "---\n",
    "\n",
    "## **Exercise 5: Data Visualization in Jupyter Notebook**\n",
    "\n",
    "1. Create a new code cell and copy the following code into the cell and execute it. (The code may take a few seconds to execute)  \n",
    "\n",
    "```python\n",
    "%matplotlib inline\n",
    "import pandas as pd\n",
    "# Load data\n",
    "data_url = \\\n",
    "\"https://data.wprdc.org/datastore/dump/76fda9d0-69be-4dd5-8108-0de7907fc5a4\"\n",
    "complaints = pd.read_csv(data_url, parse_dates=True, index_col=\"CREATED_ON\")\n",
    "# Produce a graph that shows the number of complaints per month\n",
    "complaints.resample(\"M\").size().plot();\n",
    "```\n",
    "\n",
    "2. Create a Markdown cell underneath the code cell you just executed and describe what you see. What do you think the data in this chart tell us?\n",
    "3. Create a new Markdown cell, visit https://giphy.com/, and insert an gif into the Notebook that describes how you feel."
   ]
  },
  {
   "cell_type": "markdown",
   "metadata": {},
   "source": [
    "---\n",
    "\n",
    "## **Submission**\n",
    "\n",
    "1. Make sure your exercise notebook has the correct name: `<firstname-lastname>-lab-number.ipynb`. (You will lose points otherwise.)\n",
    "2. Submit your lab (in **.ipynd**) on coure site. \n",
    "\n",
    "---"
   ]
  },
  {
   "cell_type": "code",
   "execution_count": null,
   "metadata": {},
   "outputs": [],
   "source": []
  }
 ],
 "metadata": {
  "kernelspec": {
   "display_name": "Python 3 (ipykernel)",
   "language": "python",
   "name": "python3"
  },
  "language_info": {
   "codemirror_mode": {
    "name": "ipython",
    "version": 3
   },
   "file_extension": ".py",
   "mimetype": "text/x-python",
   "name": "python",
   "nbconvert_exporter": "python",
   "pygments_lexer": "ipython3",
   "version": "3.9.12"
  },
  "vscode": {
   "interpreter": {
    "hash": "75e4a6a75c2bafdb358241a31c28830e81db8b6e5287e59fc181d3e0eb9324ab"
   }
  }
 },
 "nbformat": 4,
 "nbformat_minor": 4
}
