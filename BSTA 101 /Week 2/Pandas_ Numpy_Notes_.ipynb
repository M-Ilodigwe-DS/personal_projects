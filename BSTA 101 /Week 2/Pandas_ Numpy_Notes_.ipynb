{
 "cells": [
  {
   "cell_type": "code",
   "execution_count": 1,
   "id": "c7703099",
   "metadata": {},
   "outputs": [
    {
     "name": "stdout",
     "output_type": "stream",
     "text": [
      "[1 2 3 4 5]\n"
     ]
    }
   ],
   "source": [
    "import numpy as np\n",
    "arr=np.array((1,2,3,4,5))\n",
    "print(arr)"
   ]
  },
  {
   "cell_type": "markdown",
   "id": "8b9ac71b",
   "metadata": {},
   "source": [
    "### Square brackes tells you the dimension"
   ]
  },
  {
   "cell_type": "markdown",
   "id": "d91c3100",
   "metadata": {},
   "source": [
    "# 2D array\n"
   ]
  },
  {
   "cell_type": "code",
   "execution_count": null,
   "id": "be59e4ed",
   "metadata": {},
   "outputs": [],
   "source": [
    "#1d array whose elemets are a 2D array "
   ]
  },
  {
   "cell_type": "code",
   "execution_count": 2,
   "id": "1d53818f",
   "metadata": {},
   "outputs": [
    {
     "data": {
      "text/plain": [
       "array([[0., 0.],\n",
       "       [0., 0.],\n",
       "       [0., 0.]])"
      ]
     },
     "execution_count": 2,
     "metadata": {},
     "output_type": "execute_result"
    }
   ],
   "source": [
    "a=(3,2)\n",
    "arr=np.zeros(a)\n",
    "arr\n"
   ]
  },
  {
   "cell_type": "code",
   "execution_count": 3,
   "id": "b6c5f2e7",
   "metadata": {},
   "outputs": [
    {
     "data": {
      "text/plain": [
       "array([[1., 1.],\n",
       "       [1., 1.],\n",
       "       [1., 1.]])"
      ]
     },
     "execution_count": 3,
     "metadata": {},
     "output_type": "execute_result"
    }
   ],
   "source": [
    "a=(3,2)\n",
    "arr=np.ones(a)\n",
    "arr\n"
   ]
  },
  {
   "cell_type": "code",
   "execution_count": 8,
   "id": "5c250b54",
   "metadata": {},
   "outputs": [
    {
     "data": {
      "text/plain": [
       "(array([3.        , 3.16666667, 3.33333333, 3.5       , 3.66666667,\n",
       "        3.83333333, 4.        ]),\n",
       " 0.16666666666666666)"
      ]
     },
     "execution_count": 8,
     "metadata": {},
     "output_type": "execute_result"
    }
   ],
   "source": [
    "np.linspace(3.0,4.0,num=7,retstep=True)\n",
    "#spacing between sample "
   ]
  },
  {
   "cell_type": "code",
   "execution_count": 9,
   "id": "b45c4e0f",
   "metadata": {},
   "outputs": [
    {
     "data": {
      "text/plain": [
       "array([3.        , 3.14285714, 3.28571429, 3.42857143, 3.57142857,\n",
       "       3.71428571, 3.85714286])"
      ]
     },
     "execution_count": 9,
     "metadata": {},
     "output_type": "execute_result"
    }
   ],
   "source": [
    "#num is the number of elements you want to be generated in the interval \n",
    "#endpoint is true, stop at the endpoint\n",
    "#endpoint is false, go to the end then stop \n",
    "\n",
    "np.linspace(3.0,4.0,num=7,endpoint=False)"
   ]
  },
  {
   "cell_type": "markdown",
   "id": "8ba2bc26",
   "metadata": {},
   "source": [
    "## Eye function"
   ]
  },
  {
   "cell_type": "code",
   "execution_count": 12,
   "id": "8c2fbffe",
   "metadata": {},
   "outputs": [
    {
     "data": {
      "text/plain": [
       "array([[1., 0.],\n",
       "       [0., 1.]])"
      ]
     },
     "execution_count": 12,
     "metadata": {},
     "output_type": "execute_result"
    }
   ],
   "source": [
    "#reduced row echelon form\n",
    "#Identity matrix \n",
    "#i, j, k \n",
    "np.eye(2)"
   ]
  },
  {
   "cell_type": "code",
   "execution_count": 13,
   "id": "d2d01955",
   "metadata": {},
   "outputs": [
    {
     "data": {
      "text/plain": [
       "array([[1., 0., 0.],\n",
       "       [0., 1., 0.]])"
      ]
     },
     "execution_count": 13,
     "metadata": {},
     "output_type": "execute_result"
    }
   ],
   "source": [
    "np.eye(2,3)\n",
    "#2 rows 3 columns"
   ]
  },
  {
   "cell_type": "code",
   "execution_count": null,
   "id": "c9608189",
   "metadata": {},
   "outputs": [],
   "source": [
    "# [low,high) inclusive and exclusive"
   ]
  },
  {
   "cell_type": "code",
   "execution_count": 15,
   "id": "9172dc50",
   "metadata": {},
   "outputs": [
    {
     "data": {
      "text/plain": [
       "array([6, 9, 9, 7, 4, 2])"
      ]
     },
     "execution_count": 15,
     "metadata": {},
     "output_type": "execute_result"
    }
   ],
   "source": [
    "import numpy as np \n",
    "from numpy import random \n",
    "#Genetate 6 numbers from 2 to 10, but not inclduing 10 \n",
    "x=random.randint(2,10,6)\n",
    "x"
   ]
  },
  {
   "cell_type": "markdown",
   "id": "757feb1b",
   "metadata": {},
   "source": [
    "## Floating point numbers "
   ]
  },
  {
   "cell_type": "code",
   "execution_count": 19,
   "id": "6fc81d75",
   "metadata": {},
   "outputs": [
    {
     "data": {
      "text/plain": [
       "array([], dtype=float64)"
      ]
     },
     "execution_count": 19,
     "metadata": {},
     "output_type": "execute_result"
    }
   ],
   "source": [
    "#rand() floating point numbers from unifrom distribution (0,1)\n",
    "n=0\n",
    "x=random.rand(n)\n",
    "x"
   ]
  },
  {
   "cell_type": "code",
   "execution_count": 21,
   "id": "87911ab8",
   "metadata": {},
   "outputs": [
    {
     "data": {
      "text/plain": [
       "array([], dtype=float64)"
      ]
     },
     "execution_count": 21,
     "metadata": {},
     "output_type": "execute_result"
    }
   ],
   "source": [
    "x=random.randn(n)\n",
    "x"
   ]
  },
  {
   "cell_type": "markdown",
   "id": "1ef78acf",
   "metadata": {},
   "source": [
    "## Reshape "
   ]
  },
  {
   "cell_type": "code",
   "execution_count": 24,
   "id": "7a212c63",
   "metadata": {},
   "outputs": [
    {
     "data": {
      "text/plain": [
       "array([ 0,  1,  2,  3,  4,  5,  6,  7,  8,  9, 10, 11])"
      ]
     },
     "execution_count": 24,
     "metadata": {},
     "output_type": "execute_result"
    }
   ],
   "source": [
    "arr=np.arange(12)\n",
    "arr\n"
   ]
  },
  {
   "cell_type": "code",
   "execution_count": 26,
   "id": "1cd29ce6",
   "metadata": {},
   "outputs": [
    {
     "data": {
      "text/plain": [
       "array([[ 0,  1,  2],\n",
       "       [ 3,  4,  5],\n",
       "       [ 6,  7,  8],\n",
       "       [ 9, 10, 11]])"
      ]
     },
     "execution_count": 26,
     "metadata": {},
     "output_type": "execute_result"
    }
   ],
   "source": [
    "newarr=arr.reshape(4,3)\n",
    "newarr"
   ]
  },
  {
   "cell_type": "markdown",
   "id": "41f0a911",
   "metadata": {},
   "source": [
    "## Max and Min\n"
   ]
  },
  {
   "cell_type": "code",
   "execution_count": 36,
   "id": "482ce65d",
   "metadata": {},
   "outputs": [
    {
     "name": "stdout",
     "output_type": "stream",
     "text": [
      "[11 13 19 16  7 16 17  8  3 10 18  3 16 11 14  8 16 13 16  5  8  5 18 16\n",
      " 13] \n",
      "\n"
     ]
    },
    {
     "data": {
      "text/plain": [
       "2"
      ]
     },
     "execution_count": 36,
     "metadata": {},
     "output_type": "execute_result"
    }
   ],
   "source": [
    "arr=np.random.randint(2,20,25)\n",
    "print(arr,'\\n')\n",
    "arr.max() #returns the maximum element \n",
    "arr.argmax() #returns the index of the maximum element\n"
   ]
  },
  {
   "cell_type": "code",
   "execution_count": 37,
   "id": "1b54dedf",
   "metadata": {},
   "outputs": [
    {
     "name": "stdout",
     "output_type": "stream",
     "text": [
      "[ 8  4  4 13 18  6  3 10 15 10 10  9 16  5  7 10 14 11 13 13 11  6  3  7\n",
      "  2]\n"
     ]
    },
    {
     "data": {
      "text/plain": [
       "24"
      ]
     },
     "execution_count": 37,
     "metadata": {},
     "output_type": "execute_result"
    }
   ],
   "source": [
    "arr=np.random.randint(2,20,25)\n",
    "print(arr)\n",
    "arr.min()\n",
    "arr.argmin()"
   ]
  },
  {
   "cell_type": "markdown",
   "id": "18ee3901",
   "metadata": {},
   "source": [
    "#### INDICES START AT 0"
   ]
  },
  {
   "cell_type": "markdown",
   "id": "bd56201e",
   "metadata": {},
   "source": [
    "## Broadcasting "
   ]
  },
  {
   "cell_type": "code",
   "execution_count": 40,
   "id": "00b27928",
   "metadata": {},
   "outputs": [
    {
     "data": {
      "text/plain": [
       "array([ 5,  5,  5,  5,  5,  6,  7,  8,  9, 10, 11, 12, 13, 14, 15, 16, 17,\n",
       "       18, 19])"
      ]
     },
     "execution_count": 40,
     "metadata": {},
     "output_type": "execute_result"
    }
   ],
   "source": [
    "arr=np.arange(1,20)\n",
    "arr[0:4]=5\n",
    "arr"
   ]
  },
  {
   "cell_type": "markdown",
   "id": "3958c615",
   "metadata": {},
   "source": [
    "## Copying arrays "
   ]
  },
  {
   "cell_type": "code",
   "execution_count": 42,
   "id": "4a4eee3c",
   "metadata": {},
   "outputs": [],
   "source": [
    "y=arr.copy()"
   ]
  },
  {
   "cell_type": "code",
   "execution_count": 43,
   "id": "a81749fc",
   "metadata": {},
   "outputs": [
    {
     "data": {
      "text/plain": [
       "array([ 5,  5,  5,  5,  5,  6,  7,  8,  9, 10, 11, 12, 13, 14, 15, 16, 17,\n",
       "       18, 19])"
      ]
     },
     "execution_count": 43,
     "metadata": {},
     "output_type": "execute_result"
    }
   ],
   "source": [
    "y"
   ]
  },
  {
   "cell_type": "markdown",
   "id": "10016f84",
   "metadata": {},
   "source": [
    "## Boolean "
   ]
  },
  {
   "cell_type": "code",
   "execution_count": 47,
   "id": "c385660f",
   "metadata": {},
   "outputs": [
    {
     "data": {
      "text/plain": [
       "array([False, False, False, False, False,  True,  True,  True,  True,\n",
       "        True])"
      ]
     },
     "execution_count": 47,
     "metadata": {},
     "output_type": "execute_result"
    }
   ],
   "source": [
    "arr=np.arange(1,11)\n",
    "bool_arr=arr>5\n",
    "#Returns the numbers that are greater than 5 that are true \n",
    "bool_arr"
   ]
  },
  {
   "cell_type": "code",
   "execution_count": 48,
   "id": "5970587d",
   "metadata": {},
   "outputs": [
    {
     "data": {
      "text/plain": [
       "array([ 6,  7,  8,  9, 10])"
      ]
     },
     "execution_count": 48,
     "metadata": {},
     "output_type": "execute_result"
    }
   ],
   "source": [
    "#To do a conditional selction do, the values > 5\n",
    "\n",
    "arr[bool_arr]\n"
   ]
  },
  {
   "cell_type": "code",
   "execution_count": 49,
   "id": "2b3d6640",
   "metadata": {},
   "outputs": [
    {
     "data": {
      "text/plain": [
       "array([ 6,  7,  8,  9, 10])"
      ]
     },
     "execution_count": 49,
     "metadata": {},
     "output_type": "execute_result"
    }
   ],
   "source": [
    "#You can also do \n",
    "arr[arr>5]"
   ]
  },
  {
   "cell_type": "markdown",
   "id": "8b7c4c2e",
   "metadata": {},
   "source": [
    "## Array operations "
   ]
  },
  {
   "cell_type": "code",
   "execution_count": 51,
   "id": "3a38a92c",
   "metadata": {},
   "outputs": [
    {
     "data": {
      "text/plain": [
       "array([ 8, 16, 24, 32, 40, 48, 56, 64, 72, 80])"
      ]
     },
     "execution_count": 51,
     "metadata": {},
     "output_type": "execute_result"
    }
   ],
   "source": [
    "arr*8\n",
    "arr+8\n",
    "arr/8\n"
   ]
  },
  {
   "cell_type": "markdown",
   "id": "ab59558f",
   "metadata": {},
   "source": [
    "## Universal arrray functions "
   ]
  },
  {
   "cell_type": "code",
   "execution_count": 53,
   "id": "dd9452ce",
   "metadata": {},
   "outputs": [
    {
     "data": {
      "text/plain": [
       "array([1.        , 1.41421356, 1.73205081, 2.        , 2.23606798,\n",
       "       2.44948974, 2.64575131, 2.82842712, 3.        , 3.16227766])"
      ]
     },
     "execution_count": 53,
     "metadata": {},
     "output_type": "execute_result"
    }
   ],
   "source": [
    "np.sqrt(arr)"
   ]
  },
  {
   "cell_type": "code",
   "execution_count": 52,
   "id": "c32febab",
   "metadata": {},
   "outputs": [
    {
     "data": {
      "text/plain": [
       "array([2.71828183e+00, 7.38905610e+00, 2.00855369e+01, 5.45981500e+01,\n",
       "       1.48413159e+02, 4.03428793e+02, 1.09663316e+03, 2.98095799e+03,\n",
       "       8.10308393e+03, 2.20264658e+04])"
      ]
     },
     "execution_count": 52,
     "metadata": {},
     "output_type": "execute_result"
    }
   ],
   "source": [
    "np.exp(arr)"
   ]
  },
  {
   "cell_type": "code",
   "execution_count": 56,
   "id": "ad1cf279",
   "metadata": {},
   "outputs": [
    {
     "data": {
      "text/plain": [
       "array([ 0.84147098,  0.90929743,  0.14112001, -0.7568025 , -0.95892427,\n",
       "       -0.2794155 ,  0.6569866 ,  0.98935825,  0.41211849, -0.54402111])"
      ]
     },
     "execution_count": 56,
     "metadata": {},
     "output_type": "execute_result"
    }
   ],
   "source": [
    "np.sin(arr)"
   ]
  },
  {
   "cell_type": "code",
   "execution_count": 55,
   "id": "46fe2dd8",
   "metadata": {},
   "outputs": [
    {
     "data": {
      "text/plain": [
       "array([ 0.54030231, -0.41614684, -0.9899925 , -0.65364362,  0.28366219,\n",
       "        0.96017029,  0.75390225, -0.14550003, -0.91113026, -0.83907153])"
      ]
     },
     "execution_count": 55,
     "metadata": {},
     "output_type": "execute_result"
    }
   ],
   "source": [
    "np.cos(arr)"
   ]
  },
  {
   "cell_type": "markdown",
   "id": "ce05aa5e",
   "metadata": {},
   "source": [
    "# Pandas "
   ]
  },
  {
   "cell_type": "code",
   "execution_count": 59,
   "id": "411b9beb",
   "metadata": {},
   "outputs": [
    {
     "data": {
      "text/plain": [
       "0     5\n",
       "1    10\n",
       "2    15\n",
       "dtype: int64"
      ]
     },
     "execution_count": 59,
     "metadata": {},
     "output_type": "execute_result"
    }
   ],
   "source": [
    "import pandas as pd\n",
    "my_data=[5,10,15]\n",
    "pd.Series(data=my_data)\n"
   ]
  },
  {
   "cell_type": "code",
   "execution_count": 61,
   "id": "a7babed2",
   "metadata": {},
   "outputs": [
    {
     "data": {
      "text/plain": [
       "a     5\n",
       "b    10\n",
       "c    15\n",
       "dtype: int64"
      ]
     },
     "execution_count": 61,
     "metadata": {},
     "output_type": "execute_result"
    }
   ],
   "source": [
    "labels={\"a\": 2, \"b\": 3, \"c\": 5}\n",
    "pd.Series(data=my_data, index=labels)\n",
    "#Default is alays 0 1 2, if the index is not indicated "
   ]
  },
  {
   "cell_type": "code",
   "execution_count": 62,
   "id": "7d85566b",
   "metadata": {},
   "outputs": [],
   "source": [
    "ser1 = pd.Series([1, 2, 3, 4],\n",
    "[\"Ghana\", \"USA\", \"Mexico\", \"Canada\"])"
   ]
  },
  {
   "cell_type": "code",
   "execution_count": 63,
   "id": "9a90a5c1",
   "metadata": {},
   "outputs": [
    {
     "data": {
      "text/plain": [
       "3"
      ]
     },
     "execution_count": 63,
     "metadata": {},
     "output_type": "execute_result"
    }
   ],
   "source": [
    "ser1[\"Mexico\"]"
   ]
  },
  {
   "cell_type": "code",
   "execution_count": 64,
   "id": "cb2a207a",
   "metadata": {},
   "outputs": [],
   "source": [
    "ser2 = pd.Series([10, 12, 7, 9], [\"Ghana\", \"Brazil\", \"Mexico\", \"Nigeria\"])"
   ]
  },
  {
   "cell_type": "code",
   "execution_count": 65,
   "id": "3ca9c6c9",
   "metadata": {},
   "outputs": [
    {
     "data": {
      "text/plain": [
       "Brazil      NaN\n",
       "Canada      NaN\n",
       "Ghana      11.0\n",
       "Mexico     10.0\n",
       "Nigeria     NaN\n",
       "USA         NaN\n",
       "dtype: float64"
      ]
     },
     "execution_count": 65,
     "metadata": {},
     "output_type": "execute_result"
    }
   ],
   "source": [
    "ser1 + ser2 # ser1 - ser2"
   ]
  },
  {
   "cell_type": "markdown",
   "id": "8710660a",
   "metadata": {},
   "source": [
    "## Creating data frame "
   ]
  },
  {
   "cell_type": "code",
   "execution_count": 74,
   "id": "04403517",
   "metadata": {},
   "outputs": [
    {
     "data": {
      "text/plain": [
       "A    0.050562\n",
       "B   -0.418302\n",
       "C    0.332250\n",
       "D    0.425072\n",
       "E   -0.606887\n",
       "Name: w, dtype: float64"
      ]
     },
     "execution_count": 74,
     "metadata": {},
     "output_type": "execute_result"
    }
   ],
   "source": [
    "from numpy.random import randn\n",
    "\n",
    "np.random.seed(4) # 4 is a seed(can be any integer )\n",
    "df = pd.DataFrame(data = randn(5,4),\n",
    "index = [\"A\", \"B\", \"C\", \"D\", \"E\"],\n",
    "\n",
    "columns = [\"w\", \"x\", \"y\", \"z\"])\n",
    "\n",
    "df[\"w\"]"
   ]
  },
  {
   "cell_type": "code",
   "execution_count": 75,
   "id": "1633e84a",
   "metadata": {},
   "outputs": [
    {
     "data": {
      "text/html": [
       "<div>\n",
       "<style scoped>\n",
       "    .dataframe tbody tr th:only-of-type {\n",
       "        vertical-align: middle;\n",
       "    }\n",
       "\n",
       "    .dataframe tbody tr th {\n",
       "        vertical-align: top;\n",
       "    }\n",
       "\n",
       "    .dataframe thead th {\n",
       "        text-align: right;\n",
       "    }\n",
       "</style>\n",
       "<table border=\"1\" class=\"dataframe\">\n",
       "  <thead>\n",
       "    <tr style=\"text-align: right;\">\n",
       "      <th></th>\n",
       "      <th>w</th>\n",
       "      <th>y</th>\n",
       "    </tr>\n",
       "  </thead>\n",
       "  <tbody>\n",
       "    <tr>\n",
       "      <th>A</th>\n",
       "      <td>0.050562</td>\n",
       "      <td>-0.995909</td>\n",
       "    </tr>\n",
       "    <tr>\n",
       "      <th>B</th>\n",
       "      <td>-0.418302</td>\n",
       "      <td>-0.647707</td>\n",
       "    </tr>\n",
       "    <tr>\n",
       "      <th>C</th>\n",
       "      <td>0.332250</td>\n",
       "      <td>0.618670</td>\n",
       "    </tr>\n",
       "    <tr>\n",
       "      <th>D</th>\n",
       "      <td>0.425072</td>\n",
       "      <td>-1.156816</td>\n",
       "    </tr>\n",
       "    <tr>\n",
       "      <th>E</th>\n",
       "      <td>-0.606887</td>\n",
       "      <td>0.723342</td>\n",
       "    </tr>\n",
       "  </tbody>\n",
       "</table>\n",
       "</div>"
      ],
      "text/plain": [
       "          w         y\n",
       "A  0.050562 -0.995909\n",
       "B -0.418302 -0.647707\n",
       "C  0.332250  0.618670\n",
       "D  0.425072 -1.156816\n",
       "E -0.606887  0.723342"
      ]
     },
     "execution_count": 75,
     "metadata": {},
     "output_type": "execute_result"
    }
   ],
   "source": [
    "df[[\"w\", \"y\"]]"
   ]
  },
  {
   "cell_type": "code",
   "execution_count": 77,
   "id": "509f118b",
   "metadata": {},
   "outputs": [],
   "source": [
    "df[\"new\"] = df[\"w\"] + df[\"y\"]"
   ]
  },
  {
   "cell_type": "markdown",
   "id": "57261e6e",
   "metadata": {},
   "source": [
    "# Dropping\n"
   ]
  },
  {
   "cell_type": "code",
   "execution_count": 79,
   "id": "11ca10ae",
   "metadata": {},
   "outputs": [],
   "source": [
    "#df.drop(labels=None, axis=0, index=None, columns=None, level=None, inplace=False)\n",
    "df.drop(\"new\" , axis = 1, inplace = True)\n",
    "\n"
   ]
  },
  {
   "cell_type": "code",
   "execution_count": 80,
   "id": "a150369a",
   "metadata": {
    "scrolled": true
   },
   "outputs": [
    {
     "data": {
      "text/html": [
       "<div>\n",
       "<style scoped>\n",
       "    .dataframe tbody tr th:only-of-type {\n",
       "        vertical-align: middle;\n",
       "    }\n",
       "\n",
       "    .dataframe tbody tr th {\n",
       "        vertical-align: top;\n",
       "    }\n",
       "\n",
       "    .dataframe thead th {\n",
       "        text-align: right;\n",
       "    }\n",
       "</style>\n",
       "<table border=\"1\" class=\"dataframe\">\n",
       "  <thead>\n",
       "    <tr style=\"text-align: right;\">\n",
       "      <th></th>\n",
       "      <th>w</th>\n",
       "      <th>x</th>\n",
       "      <th>y</th>\n",
       "      <th>z</th>\n",
       "    </tr>\n",
       "  </thead>\n",
       "  <tbody>\n",
       "    <tr>\n",
       "      <th>A</th>\n",
       "      <td>0.050562</td>\n",
       "      <td>0.499951</td>\n",
       "      <td>-0.995909</td>\n",
       "      <td>0.693599</td>\n",
       "    </tr>\n",
       "    <tr>\n",
       "      <th>B</th>\n",
       "      <td>-0.418302</td>\n",
       "      <td>-1.584577</td>\n",
       "      <td>-0.647707</td>\n",
       "      <td>0.598575</td>\n",
       "    </tr>\n",
       "    <tr>\n",
       "      <th>C</th>\n",
       "      <td>0.332250</td>\n",
       "      <td>-1.147477</td>\n",
       "      <td>0.618670</td>\n",
       "      <td>-0.087987</td>\n",
       "    </tr>\n",
       "    <tr>\n",
       "      <th>D</th>\n",
       "      <td>0.425072</td>\n",
       "      <td>0.332253</td>\n",
       "      <td>-1.156816</td>\n",
       "      <td>0.350997</td>\n",
       "    </tr>\n",
       "    <tr>\n",
       "      <th>E</th>\n",
       "      <td>-0.606887</td>\n",
       "      <td>1.546979</td>\n",
       "      <td>0.723342</td>\n",
       "      <td>0.046136</td>\n",
       "    </tr>\n",
       "  </tbody>\n",
       "</table>\n",
       "</div>"
      ],
      "text/plain": [
       "          w         x         y         z\n",
       "A  0.050562  0.499951 -0.995909  0.693599\n",
       "B -0.418302 -1.584577 -0.647707  0.598575\n",
       "C  0.332250 -1.147477  0.618670 -0.087987\n",
       "D  0.425072  0.332253 -1.156816  0.350997\n",
       "E -0.606887  1.546979  0.723342  0.046136"
      ]
     },
     "execution_count": 80,
     "metadata": {},
     "output_type": "execute_result"
    }
   ],
   "source": [
    "df"
   ]
  },
  {
   "cell_type": "markdown",
   "id": "8ccf5673",
   "metadata": {},
   "source": [
    "## Axis \n",
    "- column =0 \n",
    "- row=1 \n",
    "- axis =0 \n",
    "- axis =1"
   ]
  },
  {
   "cell_type": "code",
   "execution_count": null,
   "id": "c066e1e1",
   "metadata": {},
   "outputs": [],
   "source": []
  },
  {
   "cell_type": "code",
   "execution_count": null,
   "id": "d1b6440d",
   "metadata": {},
   "outputs": [],
   "source": []
  },
  {
   "cell_type": "markdown",
   "id": "6c1a31ab",
   "metadata": {},
   "source": [
    "# Loc vs Iloc\n",
    "- iloc needs the postion of the rows \n",
    "- loc needs column names \n"
   ]
  },
  {
   "cell_type": "code",
   "execution_count": null,
   "id": "c679089a",
   "metadata": {},
   "outputs": [],
   "source": []
  },
  {
   "cell_type": "code",
   "execution_count": null,
   "id": "bd441b8b",
   "metadata": {},
   "outputs": [],
   "source": []
  },
  {
   "cell_type": "code",
   "execution_count": null,
   "id": "545ee8df",
   "metadata": {},
   "outputs": [],
   "source": []
  },
  {
   "cell_type": "code",
   "execution_count": null,
   "id": "8c794183",
   "metadata": {},
   "outputs": [],
   "source": []
  },
  {
   "cell_type": "code",
   "execution_count": null,
   "id": "1340172e",
   "metadata": {},
   "outputs": [],
   "source": []
  },
  {
   "cell_type": "code",
   "execution_count": null,
   "id": "7f873ce8",
   "metadata": {},
   "outputs": [],
   "source": []
  },
  {
   "cell_type": "code",
   "execution_count": null,
   "id": "4acab433",
   "metadata": {},
   "outputs": [],
   "source": []
  },
  {
   "cell_type": "code",
   "execution_count": null,
   "id": "69600264",
   "metadata": {},
   "outputs": [],
   "source": []
  },
  {
   "cell_type": "code",
   "execution_count": null,
   "id": "bcbe6189",
   "metadata": {},
   "outputs": [],
   "source": []
  }
 ],
 "metadata": {
  "kernelspec": {
   "display_name": "Python 3 (ipykernel)",
   "language": "python",
   "name": "python3"
  },
  "language_info": {
   "codemirror_mode": {
    "name": "ipython",
    "version": 3
   },
   "file_extension": ".py",
   "mimetype": "text/x-python",
   "name": "python",
   "nbconvert_exporter": "python",
   "pygments_lexer": "ipython3",
   "version": "3.9.12"
  }
 },
 "nbformat": 4,
 "nbformat_minor": 5
}
