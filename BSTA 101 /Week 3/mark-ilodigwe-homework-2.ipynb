{
 "cells": [
  {
   "cell_type": "markdown",
   "id": "6da6f4a1",
   "metadata": {},
   "source": [
    "# Mark Ilodigwe\n",
    "## Homework 2\n",
    "### 2/5/24"
   ]
  },
  {
   "cell_type": "markdown",
   "id": "332f05ec",
   "metadata": {},
   "source": [
    "## 1. Read in the data"
   ]
  },
  {
   "cell_type": "code",
   "execution_count": 5,
   "id": "76111e38",
   "metadata": {},
   "outputs": [
    {
     "name": "stdout",
     "output_type": "stream",
     "text": [
      "DA0101EN-2-Review-Data-Wrangling.ipynb crime_incident_data2017.csv\r\n",
      "HW2.pdf                                mark-ilodigwe-homework-2.ipynb\r\n",
      "Pandus_Numpy_Continued .ipynb\r\n"
     ]
    }
   ],
   "source": [
    "!ls"
   ]
  },
  {
   "cell_type": "code",
   "execution_count": 1,
   "id": "f0e57651",
   "metadata": {},
   "outputs": [
    {
     "name": "stdout",
     "output_type": "stream",
     "text": [
      "The count of rows is  41032\n"
     ]
    }
   ],
   "source": [
    "import pandas as pd\n",
    "import numpy as np\n",
    "df=pd.read_csv(\"crime_incident_data2017.csv\")\n",
    "df.head(7)\n",
    "number_of_rows=len(df)\n",
    "print(\"The count of rows is \", number_of_rows)"
   ]
  },
  {
   "cell_type": "code",
   "execution_count": 2,
   "id": "660e0ec2",
   "metadata": {},
   "outputs": [
    {
     "data": {
      "text/html": [
       "<div>\n",
       "<style scoped>\n",
       "    .dataframe tbody tr th:only-of-type {\n",
       "        vertical-align: middle;\n",
       "    }\n",
       "\n",
       "    .dataframe tbody tr th {\n",
       "        vertical-align: top;\n",
       "    }\n",
       "\n",
       "    .dataframe thead th {\n",
       "        text-align: right;\n",
       "    }\n",
       "</style>\n",
       "<table border=\"1\" class=\"dataframe\">\n",
       "  <thead>\n",
       "    <tr style=\"text-align: right;\">\n",
       "      <th></th>\n",
       "      <th>Address</th>\n",
       "      <th>Case Number</th>\n",
       "      <th>Crime Against</th>\n",
       "      <th>Neighborhood</th>\n",
       "      <th>Number of Records</th>\n",
       "      <th>Occur Date</th>\n",
       "      <th>Occur Month Year</th>\n",
       "      <th>Occur Time</th>\n",
       "      <th>Offense Category</th>\n",
       "      <th>Offense Count</th>\n",
       "      <th>Offense Type</th>\n",
       "      <th>Open Data Lat</th>\n",
       "      <th>Open Data Lon</th>\n",
       "      <th>Open Data X</th>\n",
       "      <th>Open Data Y</th>\n",
       "      <th>Report Date</th>\n",
       "      <th>Report Month Year</th>\n",
       "    </tr>\n",
       "  </thead>\n",
       "  <tbody>\n",
       "    <tr>\n",
       "      <th>2</th>\n",
       "      <td>200 BLOCK OF SE 78TH AVE</td>\n",
       "      <td>17-900367</td>\n",
       "      <td>Property</td>\n",
       "      <td>Montavilla</td>\n",
       "      <td>1</td>\n",
       "      <td>12/1/03</td>\n",
       "      <td>12/1/03</td>\n",
       "      <td>800</td>\n",
       "      <td>Fraud Offenses</td>\n",
       "      <td>1</td>\n",
       "      <td>False Pretenses/Swindle/Confidence Game</td>\n",
       "      <td>45.5207</td>\n",
       "      <td>-122.583</td>\n",
       "      <td>7668150.0</td>\n",
       "      <td>682825.0</td>\n",
       "      <td>1/9/17</td>\n",
       "      <td>1/1/17</td>\n",
       "    </tr>\n",
       "    <tr>\n",
       "      <th>5</th>\n",
       "      <td>5400 BLOCK OF NE MALLORY AVE</td>\n",
       "      <td>17-900129</td>\n",
       "      <td>Property</td>\n",
       "      <td>King</td>\n",
       "      <td>1</td>\n",
       "      <td>11/28/10</td>\n",
       "      <td>11/1/10</td>\n",
       "      <td>1612</td>\n",
       "      <td>Fraud Offenses</td>\n",
       "      <td>1</td>\n",
       "      <td>Identity Theft</td>\n",
       "      <td>45.5625</td>\n",
       "      <td>-122.664</td>\n",
       "      <td>7647987.0</td>\n",
       "      <td>698581.0</td>\n",
       "      <td>1/3/17</td>\n",
       "      <td>1/1/17</td>\n",
       "    </tr>\n",
       "    <tr>\n",
       "      <th>6</th>\n",
       "      <td>5000 BLOCK OF NE 19TH AVE</td>\n",
       "      <td>17-901079</td>\n",
       "      <td>Property</td>\n",
       "      <td>Vernon</td>\n",
       "      <td>1</td>\n",
       "      <td>11/8/13</td>\n",
       "      <td>11/1/13</td>\n",
       "      <td>1200</td>\n",
       "      <td>Fraud Offenses</td>\n",
       "      <td>1</td>\n",
       "      <td>False Pretenses/Swindle/Confidence Game</td>\n",
       "      <td>45.5594</td>\n",
       "      <td>-122.646</td>\n",
       "      <td>7652567.0</td>\n",
       "      <td>697337.0</td>\n",
       "      <td>1/26/17</td>\n",
       "      <td>1/1/17</td>\n",
       "    </tr>\n",
       "    <tr>\n",
       "      <th>7</th>\n",
       "      <td>5000 BLOCK OF NE 19TH AVE</td>\n",
       "      <td>17-901079</td>\n",
       "      <td>Property</td>\n",
       "      <td>Vernon</td>\n",
       "      <td>1</td>\n",
       "      <td>11/8/13</td>\n",
       "      <td>11/1/13</td>\n",
       "      <td>1200</td>\n",
       "      <td>Fraud Offenses</td>\n",
       "      <td>1</td>\n",
       "      <td>Identity Theft</td>\n",
       "      <td>45.5594</td>\n",
       "      <td>-122.646</td>\n",
       "      <td>7652567.0</td>\n",
       "      <td>697337.0</td>\n",
       "      <td>1/26/17</td>\n",
       "      <td>1/1/17</td>\n",
       "    </tr>\n",
       "    <tr>\n",
       "      <th>8</th>\n",
       "      <td>12000 BLOCK OF SE PINE ST</td>\n",
       "      <td>17-900253</td>\n",
       "      <td>Property</td>\n",
       "      <td>Hazelwood</td>\n",
       "      <td>1</td>\n",
       "      <td>1/6/14</td>\n",
       "      <td>1/1/14</td>\n",
       "      <td>805</td>\n",
       "      <td>Fraud Offenses</td>\n",
       "      <td>1</td>\n",
       "      <td>Credit Card/ATM Fraud</td>\n",
       "      <td>45.5204</td>\n",
       "      <td>-122.539</td>\n",
       "      <td>7679522.0</td>\n",
       "      <td>682404.0</td>\n",
       "      <td>1/6/17</td>\n",
       "      <td>1/1/17</td>\n",
       "    </tr>\n",
       "    <tr>\n",
       "      <th>...</th>\n",
       "      <td>...</td>\n",
       "      <td>...</td>\n",
       "      <td>...</td>\n",
       "      <td>...</td>\n",
       "      <td>...</td>\n",
       "      <td>...</td>\n",
       "      <td>...</td>\n",
       "      <td>...</td>\n",
       "      <td>...</td>\n",
       "      <td>...</td>\n",
       "      <td>...</td>\n",
       "      <td>...</td>\n",
       "      <td>...</td>\n",
       "      <td>...</td>\n",
       "      <td>...</td>\n",
       "      <td>...</td>\n",
       "      <td>...</td>\n",
       "    </tr>\n",
       "    <tr>\n",
       "      <th>41026</th>\n",
       "      <td>10200 BLOCK OF NE SANDY BLVD</td>\n",
       "      <td>17-286419</td>\n",
       "      <td>Society</td>\n",
       "      <td>Parkrose</td>\n",
       "      <td>1</td>\n",
       "      <td>8/31/17</td>\n",
       "      <td>8/1/17</td>\n",
       "      <td>2005</td>\n",
       "      <td>Drug/Narcotic Offenses</td>\n",
       "      <td>1</td>\n",
       "      <td>Drug/Narcotic Violations</td>\n",
       "      <td>45.5591</td>\n",
       "      <td>-122.557</td>\n",
       "      <td>7675224.0</td>\n",
       "      <td>696649.0</td>\n",
       "      <td>8/31/17</td>\n",
       "      <td>8/1/17</td>\n",
       "    </tr>\n",
       "    <tr>\n",
       "      <th>41027</th>\n",
       "      <td>8800 BLOCK OF NE SANDY BLVD</td>\n",
       "      <td>17-285386</td>\n",
       "      <td>Society</td>\n",
       "      <td>Sumner</td>\n",
       "      <td>1</td>\n",
       "      <td>8/31/17</td>\n",
       "      <td>8/1/17</td>\n",
       "      <td>535</td>\n",
       "      <td>Drug/Narcotic Offenses</td>\n",
       "      <td>1</td>\n",
       "      <td>Drug/Narcotic Violations</td>\n",
       "      <td>45.5554</td>\n",
       "      <td>-122.571</td>\n",
       "      <td>7671560.0</td>\n",
       "      <td>695399.0</td>\n",
       "      <td>8/31/17</td>\n",
       "      <td>8/1/17</td>\n",
       "    </tr>\n",
       "    <tr>\n",
       "      <th>41028</th>\n",
       "      <td>9700 BLOCK OF SE STARK ST</td>\n",
       "      <td>17-286082</td>\n",
       "      <td>Society</td>\n",
       "      <td>Hazelwood</td>\n",
       "      <td>1</td>\n",
       "      <td>8/31/17</td>\n",
       "      <td>8/1/17</td>\n",
       "      <td>1619</td>\n",
       "      <td>Prostitution Offenses</td>\n",
       "      <td>1</td>\n",
       "      <td>Prostitution</td>\n",
       "      <td>45.5191</td>\n",
       "      <td>-122.563</td>\n",
       "      <td>7673292.0</td>\n",
       "      <td>682101.0</td>\n",
       "      <td>8/31/17</td>\n",
       "      <td>8/1/17</td>\n",
       "    </tr>\n",
       "    <tr>\n",
       "      <th>41029</th>\n",
       "      <td>9700 BLOCK OF SE STARK ST</td>\n",
       "      <td>17-286413</td>\n",
       "      <td>Society</td>\n",
       "      <td>Hazelwood</td>\n",
       "      <td>1</td>\n",
       "      <td>8/31/17</td>\n",
       "      <td>8/1/17</td>\n",
       "      <td>1959</td>\n",
       "      <td>Prostitution Offenses</td>\n",
       "      <td>1</td>\n",
       "      <td>Prostitution</td>\n",
       "      <td>45.5191</td>\n",
       "      <td>-122.563</td>\n",
       "      <td>7673292.0</td>\n",
       "      <td>682101.0</td>\n",
       "      <td>8/31/17</td>\n",
       "      <td>8/1/17</td>\n",
       "    </tr>\n",
       "    <tr>\n",
       "      <th>41031</th>\n",
       "      <td>8000 BLOCK OF SE POWELL BLVD</td>\n",
       "      <td>17-286659</td>\n",
       "      <td>Society</td>\n",
       "      <td>Foster-Powell</td>\n",
       "      <td>1</td>\n",
       "      <td>8/31/17</td>\n",
       "      <td>8/1/17</td>\n",
       "      <td>2354</td>\n",
       "      <td>Weapon Law Violations</td>\n",
       "      <td>1</td>\n",
       "      <td>Weapons Law Violations</td>\n",
       "      <td>45.4974</td>\n",
       "      <td>-122.580</td>\n",
       "      <td>7668725.0</td>\n",
       "      <td>674298.0</td>\n",
       "      <td>8/31/17</td>\n",
       "      <td>8/1/17</td>\n",
       "    </tr>\n",
       "  </tbody>\n",
       "</table>\n",
       "<p>36146 rows × 17 columns</p>\n",
       "</div>"
      ],
      "text/plain": [
       "                            Address Case Number Crime Against   Neighborhood  \\\n",
       "2          200 BLOCK OF SE 78TH AVE   17-900367      Property     Montavilla   \n",
       "5      5400 BLOCK OF NE MALLORY AVE   17-900129      Property           King   \n",
       "6         5000 BLOCK OF NE 19TH AVE   17-901079      Property         Vernon   \n",
       "7         5000 BLOCK OF NE 19TH AVE   17-901079      Property         Vernon   \n",
       "8         12000 BLOCK OF SE PINE ST   17-900253      Property      Hazelwood   \n",
       "...                             ...         ...           ...            ...   \n",
       "41026  10200 BLOCK OF NE SANDY BLVD   17-286419       Society       Parkrose   \n",
       "41027   8800 BLOCK OF NE SANDY BLVD   17-285386       Society         Sumner   \n",
       "41028     9700 BLOCK OF SE STARK ST   17-286082       Society      Hazelwood   \n",
       "41029     9700 BLOCK OF SE STARK ST   17-286413       Society      Hazelwood   \n",
       "41031  8000 BLOCK OF SE POWELL BLVD   17-286659       Society  Foster-Powell   \n",
       "\n",
       "       Number of Records Occur Date Occur Month Year  Occur Time  \\\n",
       "2                      1    12/1/03          12/1/03         800   \n",
       "5                      1   11/28/10          11/1/10        1612   \n",
       "6                      1    11/8/13          11/1/13        1200   \n",
       "7                      1    11/8/13          11/1/13        1200   \n",
       "8                      1     1/6/14           1/1/14         805   \n",
       "...                  ...        ...              ...         ...   \n",
       "41026                  1    8/31/17           8/1/17        2005   \n",
       "41027                  1    8/31/17           8/1/17         535   \n",
       "41028                  1    8/31/17           8/1/17        1619   \n",
       "41029                  1    8/31/17           8/1/17        1959   \n",
       "41031                  1    8/31/17           8/1/17        2354   \n",
       "\n",
       "             Offense Category  Offense Count  \\\n",
       "2              Fraud Offenses              1   \n",
       "5              Fraud Offenses              1   \n",
       "6              Fraud Offenses              1   \n",
       "7              Fraud Offenses              1   \n",
       "8              Fraud Offenses              1   \n",
       "...                       ...            ...   \n",
       "41026  Drug/Narcotic Offenses              1   \n",
       "41027  Drug/Narcotic Offenses              1   \n",
       "41028   Prostitution Offenses              1   \n",
       "41029   Prostitution Offenses              1   \n",
       "41031   Weapon Law Violations              1   \n",
       "\n",
       "                                  Offense Type  Open Data Lat  Open Data Lon  \\\n",
       "2      False Pretenses/Swindle/Confidence Game        45.5207       -122.583   \n",
       "5                               Identity Theft        45.5625       -122.664   \n",
       "6      False Pretenses/Swindle/Confidence Game        45.5594       -122.646   \n",
       "7                               Identity Theft        45.5594       -122.646   \n",
       "8                        Credit Card/ATM Fraud        45.5204       -122.539   \n",
       "...                                        ...            ...            ...   \n",
       "41026                 Drug/Narcotic Violations        45.5591       -122.557   \n",
       "41027                 Drug/Narcotic Violations        45.5554       -122.571   \n",
       "41028                             Prostitution        45.5191       -122.563   \n",
       "41029                             Prostitution        45.5191       -122.563   \n",
       "41031                   Weapons Law Violations        45.4974       -122.580   \n",
       "\n",
       "       Open Data X  Open Data Y Report Date Report Month Year  \n",
       "2        7668150.0     682825.0      1/9/17            1/1/17  \n",
       "5        7647987.0     698581.0      1/3/17            1/1/17  \n",
       "6        7652567.0     697337.0     1/26/17            1/1/17  \n",
       "7        7652567.0     697337.0     1/26/17            1/1/17  \n",
       "8        7679522.0     682404.0      1/6/17            1/1/17  \n",
       "...            ...          ...         ...               ...  \n",
       "41026    7675224.0     696649.0     8/31/17            8/1/17  \n",
       "41027    7671560.0     695399.0     8/31/17            8/1/17  \n",
       "41028    7673292.0     682101.0     8/31/17            8/1/17  \n",
       "41029    7673292.0     682101.0     8/31/17            8/1/17  \n",
       "41031    7668725.0     674298.0     8/31/17            8/1/17  \n",
       "\n",
       "[36146 rows x 17 columns]"
      ]
     },
     "execution_count": 2,
     "metadata": {},
     "output_type": "execute_result"
    }
   ],
   "source": [
    "df.dropna(axis=0, inplace=True)\n",
    "\n",
    "df"
   ]
  },
  {
   "cell_type": "markdown",
   "id": "dc0921cc",
   "metadata": {},
   "source": [
    "## 4. Search through the “Offense Type” column and “replace” any similar values with one consistent value.\n"
   ]
  },
  {
   "cell_type": "code",
   "execution_count": 3,
   "id": "5835931e",
   "metadata": {},
   "outputs": [
    {
     "data": {
      "text/plain": [
       "Theft From Motor Vehicle                       6947\n",
       "Motor Vehicle Theft                            4689\n",
       "All Other Larceny                              4558\n",
       "Vandalism                                      3863\n",
       "Burglary                                       2824\n",
       "Shoplifting                                    2259\n",
       "Identity Theft                                 1794\n",
       "Simple Assault                                 1216\n",
       "Drug/Narcotic Violations                       1095\n",
       "Theft of Motor Vehicle Parts or Accessories    1073\n",
       "Intimidation                                    900\n",
       "Theft From Building                             895\n",
       "False Pretenses/Swindle/Confidence Game         870\n",
       "Aggravated Assault                              839\n",
       "Robbery                                         608\n",
       "Counterfeiting/Forgery                          448\n",
       "Weapons Law Violations                          266\n",
       "Credit Card/ATM Fraud                           226\n",
       "Arson                                           200\n",
       "Prostitution                                    145\n",
       "Pocket-Picking                                   94\n",
       "Purse-Snatching                                  89\n",
       "Embezzlement                                     73\n",
       "Stolen Property Offenses                         57\n",
       "Kidnapping/Abduction                             22\n",
       "Theft From Coin-Operated Machine or Device       20\n",
       "Hacking/Computer Invasion                        19\n",
       "Animal Cruelty                                   17\n",
       "Pornography/Obscene Material                     10\n",
       "Extortion/Blackmail                               8\n",
       "Assisting or Promoting Prostitution               7\n",
       "Drug Equipment Violations                         6\n",
       "Impersonation                                     4\n",
       "Wire Fraud                                        3\n",
       "Commercial Sex Acts                               1\n",
       "Welfare Fraud                                     1\n",
       "Name: Offense Type, dtype: int64"
      ]
     },
     "execution_count": 3,
     "metadata": {},
     "output_type": "execute_result"
    }
   ],
   "source": [
    "df['Offense Type'].value_counts()\n",
    "\n",
    "#df['z']=df['x','y','W']\n"
   ]
  },
  {
   "cell_type": "code",
   "execution_count": 10,
   "id": "b7aca4ae",
   "metadata": {},
   "outputs": [
    {
     "name": "stdout",
     "output_type": "stream",
     "text": [
      "Offense Type                        \n",
      "Overall Theft                           30693\n",
      "Person on Person/Animal crime            3006\n",
      "Person  used object to commit crimes     1586\n",
      "Money Laundering of some kind             698\n",
      "Overall Sex Crimes                        163\n",
      "dtype: int64\n"
     ]
    }
   ],
   "source": [
    "#Here, I used an if/elif serious to categorize the various subcategories of crimes in the dataaset. Theft had the most \n",
    "import pandas as pd\n",
    "\n",
    "new_df = df.loc[:, [\"Offense Type\"]]\n",
    "\n",
    "if not new_df.empty:\n",
    "    for offense_type in new_df[\"Offense Type\"]:\n",
    "        if offense_type in ['Rape', 'Commercial Sex Acts', 'Sodomy', 'Pornography/Obscene Material', 'Sexual Assault With an Object', 'Assisting or Promoting Prostitution', 'Sexual Assault With An Object','Statutory Rape','Prostitution','Incest','Fondling']:\n",
    "            new_df.loc[new_df[\"Offense Type\"] == offense_type, \"Offense Type\"] = 'Overall Sex Crimes'\n",
    "        elif offense_type in ['Theft From Motor Vehicle','All Other Larceny','Motor Vehicle Theft','Vandalism','Burglary','Shoplifting','Identity Theft','Theft of Motor Vehicle Parts or Accessories','Theft From Building','False Pretenses/Swindle/Confidence Game','Pocket-Picking','Purse-Snatching','Embezzlement','Stolen Property Offenses','Robbery']:\n",
    "            new_df.loc[new_df[\"Offense Type\"] == offense_type, \"Offense Type\"] = 'Overall Theft'\n",
    "        elif offense_type in ['Counterfeiting/Forgery',  'Credit Card/ATM Fraud','Theft From Coin-Operated Machine or Device','Wire Fraud', 'Welfare Fraud']:\n",
    "            new_df.loc[new_df[\"Offense Type\"] == offense_type, \"Offense Type\"]='Money Laundering of some kind'\n",
    "        elif offense_type in ['Simple Assault', 'Intimidation', 'Aggravated Assault','Kidnapping/Abduction','Impersonation','Involuntary Servitude','Murder and Non-negligent Manslaughter','Extortion/Blackmail', 'Animal Cruelty']:\n",
    "            new_df.loc[new_df[\"Offense Type\"] == offense_type, \"Offense Type\"]='Person on Person/Animal crime'\n",
    "        elif offense_type in ['Drug Equipment Violations', 'Drug/Narcotic Violations', 'Weapons Law Violations', 'Arson', 'Hacking/Computer Invasion']:\n",
    "            new_df.loc[new_df[\"Offense Type\"] == offense_type, \"Offense Type\"]='Person  used object to commit crimes'\n",
    "\n",
    "    print(new_df.value_counts())\n",
    "\n"
   ]
  },
  {
   "cell_type": "code",
   "execution_count": null,
   "id": "d4f86b57",
   "metadata": {
    "scrolled": true
   },
   "outputs": [],
   "source": [
    "\n"
   ]
  },
  {
   "cell_type": "code",
   "execution_count": 11,
   "id": "f29768d3",
   "metadata": {},
   "outputs": [
    {
     "data": {
      "text/html": [
       "<div>\n",
       "<style scoped>\n",
       "    .dataframe tbody tr th:only-of-type {\n",
       "        vertical-align: middle;\n",
       "    }\n",
       "\n",
       "    .dataframe tbody tr th {\n",
       "        vertical-align: top;\n",
       "    }\n",
       "\n",
       "    .dataframe thead th {\n",
       "        text-align: right;\n",
       "    }\n",
       "</style>\n",
       "<table border=\"1\" class=\"dataframe\">\n",
       "  <thead>\n",
       "    <tr style=\"text-align: right;\">\n",
       "      <th></th>\n",
       "      <th>Offense Type</th>\n",
       "    </tr>\n",
       "  </thead>\n",
       "  <tbody>\n",
       "    <tr>\n",
       "      <th>2</th>\n",
       "      <td>Overall Theft</td>\n",
       "    </tr>\n",
       "    <tr>\n",
       "      <th>5</th>\n",
       "      <td>Overall Theft</td>\n",
       "    </tr>\n",
       "    <tr>\n",
       "      <th>6</th>\n",
       "      <td>Overall Theft</td>\n",
       "    </tr>\n",
       "    <tr>\n",
       "      <th>7</th>\n",
       "      <td>Overall Theft</td>\n",
       "    </tr>\n",
       "    <tr>\n",
       "      <th>8</th>\n",
       "      <td>Money Laundering of some kind</td>\n",
       "    </tr>\n",
       "    <tr>\n",
       "      <th>...</th>\n",
       "      <td>...</td>\n",
       "    </tr>\n",
       "    <tr>\n",
       "      <th>41026</th>\n",
       "      <td>Person  used object to commit crimes</td>\n",
       "    </tr>\n",
       "    <tr>\n",
       "      <th>41027</th>\n",
       "      <td>Person  used object to commit crimes</td>\n",
       "    </tr>\n",
       "    <tr>\n",
       "      <th>41028</th>\n",
       "      <td>Overall Sex Crimes</td>\n",
       "    </tr>\n",
       "    <tr>\n",
       "      <th>41029</th>\n",
       "      <td>Overall Sex Crimes</td>\n",
       "    </tr>\n",
       "    <tr>\n",
       "      <th>41031</th>\n",
       "      <td>Person  used object to commit crimes</td>\n",
       "    </tr>\n",
       "  </tbody>\n",
       "</table>\n",
       "<p>36146 rows × 1 columns</p>\n",
       "</div>"
      ],
      "text/plain": [
       "                               Offense Type\n",
       "2                             Overall Theft\n",
       "5                             Overall Theft\n",
       "6                             Overall Theft\n",
       "7                             Overall Theft\n",
       "8             Money Laundering of some kind\n",
       "...                                     ...\n",
       "41026  Person  used object to commit crimes\n",
       "41027  Person  used object to commit crimes\n",
       "41028                    Overall Sex Crimes\n",
       "41029                    Overall Sex Crimes\n",
       "41031  Person  used object to commit crimes\n",
       "\n",
       "[36146 rows x 1 columns]"
      ]
     },
     "execution_count": 11,
     "metadata": {},
     "output_type": "execute_result"
    }
   ],
   "source": [
    "new_df"
   ]
  },
  {
   "cell_type": "markdown",
   "id": "73f9eb01",
   "metadata": {},
   "source": [
    "# 4. Search through the “Offense Type” column and “replace” any similar values with one consistent value.\n",
    "\n",
    "What does this mean?\n",
    "\n",
    "\n"
   ]
  },
  {
   "cell_type": "markdown",
   "id": "6829a5ad",
   "metadata": {},
   "source": [
    "# 2. Linear Algebra, Matrices\n"
   ]
  },
  {
   "cell_type": "code",
   "execution_count": 41,
   "id": "84441b36",
   "metadata": {},
   "outputs": [],
   "source": [
    "B = np.array([[1, 3],\n",
    "              [2, 4],\n",
    "              [-3, -1]])\n",
    "\n",
    "A = np.array([[2, 1, 2],\n",
    "              [-5, 4, -1],\n",
    "              [1, 5, 6]])\n",
    "\n",
    "y = np.array([[2],\n",
    "              [-4],\n",
    "              [1]])\n",
    "\n",
    "\n",
    "z= np.array([[-15],\n",
    "              [-8],\n",
    "              [-22]])"
   ]
  },
  {
   "cell_type": "code",
   "execution_count": 42,
   "id": "95b079bc",
   "metadata": {},
   "outputs": [
    {
     "data": {
      "text/plain": [
       "array([[ 1,  3,  2],\n",
       "       [ 4, -3, -1]])"
      ]
     },
     "execution_count": 42,
     "metadata": {},
     "output_type": "execute_result"
    }
   ],
   "source": [
    "#BA\n",
    "A=A.reshape(3,3)\n",
    "A\n",
    "\n",
    "B=B.reshape(2,3)\n",
    "B\n",
    "\n",
    "\n",
    "\n",
    "#R-1 dimesnions for dimendion \n",
    "# in R3 but has 2D"
   ]
  },
  {
   "cell_type": "code",
   "execution_count": 43,
   "id": "fd3a5891",
   "metadata": {},
   "outputs": [
    {
     "data": {
      "text/plain": [
       "2"
      ]
     },
     "execution_count": 43,
     "metadata": {},
     "output_type": "execute_result"
    }
   ],
   "source": [
    "z.ndim"
   ]
  },
  {
   "cell_type": "code",
   "execution_count": 44,
   "id": "b27cdbbb",
   "metadata": {},
   "outputs": [
    {
     "data": {
      "text/plain": [
       "array([[-11,  23,  11],\n",
       "       [ 22, -13,   5]])"
      ]
     },
     "execution_count": 44,
     "metadata": {},
     "output_type": "execute_result"
    }
   ],
   "source": [
    "#For equation 1: \n",
    "equation_1=np.dot(B,A)\n",
    "equation_1\n"
   ]
  },
  {
   "cell_type": "code",
   "execution_count": 45,
   "id": "7acb7610",
   "metadata": {},
   "outputs": [
    {
     "data": {
      "text/plain": [
       "array([[  9,   3],\n",
       "       [  5, -31],\n",
       "       [ 28, -17]])"
      ]
     },
     "execution_count": 45,
     "metadata": {},
     "output_type": "execute_result"
    }
   ],
   "source": [
    "#For equation 2: \n",
    "equation_2=np.dot(A,B.T )\n",
    "equation_2"
   ]
  },
  {
   "cell_type": "code",
   "execution_count": 46,
   "id": "777cd1d1",
   "metadata": {},
   "outputs": [
    {
     "data": {
      "text/plain": [
       "array([[  2],\n",
       "       [-27],\n",
       "       [-12]])"
      ]
     },
     "execution_count": 46,
     "metadata": {},
     "output_type": "execute_result"
    }
   ],
   "source": [
    "#For equation 3:\n",
    "\n",
    "equation_3=np.matmul(A,y)\n",
    "equation_3"
   ]
  },
  {
   "cell_type": "code",
   "execution_count": 47,
   "id": "8811bd39",
   "metadata": {},
   "outputs": [
    {
     "data": {
      "text/plain": [
       "array([[-20]])"
      ]
     },
     "execution_count": 47,
     "metadata": {},
     "output_type": "execute_result"
    }
   ],
   "source": [
    "#For equation 4: \n",
    "\n",
    "equation_4=np.matmul(y.T,z)\n",
    "equation_4"
   ]
  },
  {
   "cell_type": "code",
   "execution_count": 53,
   "id": "cc4cc6f1",
   "metadata": {},
   "outputs": [
    {
     "data": {
      "text/plain": [
       "array([[-30, -16, -44],\n",
       "       [ 60,  32,  88],\n",
       "       [-15,  -8, -22]])"
      ]
     },
     "execution_count": 53,
     "metadata": {},
     "output_type": "execute_result"
    }
   ],
   "source": [
    "#For equation 5:\n",
    "equation_5=np.matmul(y,z.T)\n",
    "equation_5"
   ]
  },
  {
   "cell_type": "code",
   "execution_count": null,
   "id": "004c0832",
   "metadata": {},
   "outputs": [],
   "source": []
  },
  {
   "cell_type": "code",
   "execution_count": null,
   "id": "ed35cb14",
   "metadata": {},
   "outputs": [],
   "source": []
  },
  {
   "cell_type": "code",
   "execution_count": null,
   "id": "5773939a",
   "metadata": {},
   "outputs": [],
   "source": []
  },
  {
   "cell_type": "code",
   "execution_count": null,
   "id": "556d2b44",
   "metadata": {},
   "outputs": [],
   "source": []
  },
  {
   "cell_type": "code",
   "execution_count": null,
   "id": "a98e3cf7",
   "metadata": {},
   "outputs": [],
   "source": []
  }
 ],
 "metadata": {
  "kernelspec": {
   "display_name": "Python 3 (ipykernel)",
   "language": "python",
   "name": "python3"
  },
  "language_info": {
   "codemirror_mode": {
    "name": "ipython",
    "version": 3
   },
   "file_extension": ".py",
   "mimetype": "text/x-python",
   "name": "python",
   "nbconvert_exporter": "python",
   "pygments_lexer": "ipython3",
   "version": "3.11.5"
  }
 },
 "nbformat": 4,
 "nbformat_minor": 5
}
