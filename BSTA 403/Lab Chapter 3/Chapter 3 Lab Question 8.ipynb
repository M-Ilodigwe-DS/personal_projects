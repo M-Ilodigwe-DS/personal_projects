{
 "cells": [
  {
   "cell_type": "markdown",
   "id": "08c2889c",
   "metadata": {},
   "source": [
    "# Chapter 3 Lab \n",
    "## Mark Ilodigwe \n",
    "### 8. This question involves the use of simple linear regression on the Auto data set.\n",
    "## Ignore docstrings \n",
    "\n",
    "(a) Use the sm.OLS() function to perform a simple linear regression with mpg as the response and horsepower as the predictor. Use the summarize() function to print the results. Comment on the output. For example:\n",
    "i. Is there a relationship between the predictor and the re- sponse?\n",
    "\n",
    "ii. How strong is the relationship between the predictor and the response?\n",
    "\n",
    "iii. Is the relationship between the predictor and the response positive or negative?\n",
    "\n",
    "iv. What is the predicted mpg associated with a horsepower of 98? What are the associated 95 % confidence and prediction intervals?\n",
    "\n",
    "\n",
    "\n",
    "(b) Plot the response and the predictor in a new set of axes ax. Use the ax.axline() method or the abline() function defined in the lab to display the least squares regression line."
   ]
  },
  {
   "cell_type": "code",
   "execution_count": 116,
   "id": "6dc70a4f",
   "metadata": {},
   "outputs": [
    {
     "name": "stdout",
     "output_type": "stream",
     "text": [
      "Requirement already satisfied: ISLP in /Users/markilodigwe/anaconda3/lib/python3.11/site-packages (0.3.22)\n",
      "Requirement already satisfied: numpy<1.25,>=1.7.1 in /Users/markilodigwe/anaconda3/lib/python3.11/site-packages (from ISLP) (1.24.4)\n",
      "Requirement already satisfied: scipy>=0.9 in /Users/markilodigwe/anaconda3/lib/python3.11/site-packages (from ISLP) (1.11.1)\n",
      "Requirement already satisfied: pandas<=1.9,>=0.20 in /Users/markilodigwe/anaconda3/lib/python3.11/site-packages (from ISLP) (1.5.3)\n",
      "Requirement already satisfied: lxml in /Users/markilodigwe/anaconda3/lib/python3.11/site-packages (from ISLP) (4.9.3)\n",
      "Requirement already satisfied: scikit-learn>=1.2 in /Users/markilodigwe/anaconda3/lib/python3.11/site-packages (from ISLP) (1.3.0)\n",
      "Requirement already satisfied: joblib in /Users/markilodigwe/anaconda3/lib/python3.11/site-packages (from ISLP) (1.2.0)\n",
      "Requirement already satisfied: statsmodels>=0.13 in /Users/markilodigwe/anaconda3/lib/python3.11/site-packages (from ISLP) (0.14.0)\n",
      "Requirement already satisfied: lifelines in /Users/markilodigwe/anaconda3/lib/python3.11/site-packages (from ISLP) (0.28.0)\n",
      "Requirement already satisfied: pygam in /Users/markilodigwe/anaconda3/lib/python3.11/site-packages (from ISLP) (0.9.0)\n",
      "Requirement already satisfied: torch in /Users/markilodigwe/anaconda3/lib/python3.11/site-packages (from ISLP) (2.2.1)\n",
      "Requirement already satisfied: pytorch-lightning in /Users/markilodigwe/anaconda3/lib/python3.11/site-packages (from ISLP) (2.2.0.post0)\n",
      "Requirement already satisfied: torchmetrics in /Users/markilodigwe/anaconda3/lib/python3.11/site-packages (from ISLP) (1.3.1)\n",
      "Requirement already satisfied: python-dateutil>=2.8.1 in /Users/markilodigwe/anaconda3/lib/python3.11/site-packages (from pandas<=1.9,>=0.20->ISLP) (2.8.2)\n",
      "Requirement already satisfied: pytz>=2020.1 in /Users/markilodigwe/anaconda3/lib/python3.11/site-packages (from pandas<=1.9,>=0.20->ISLP) (2023.3.post1)\n",
      "Requirement already satisfied: threadpoolctl>=2.0.0 in /Users/markilodigwe/anaconda3/lib/python3.11/site-packages (from scikit-learn>=1.2->ISLP) (2.2.0)\n",
      "Requirement already satisfied: patsy>=0.5.2 in /Users/markilodigwe/anaconda3/lib/python3.11/site-packages (from statsmodels>=0.13->ISLP) (0.5.3)\n",
      "Requirement already satisfied: packaging>=21.3 in /Users/markilodigwe/anaconda3/lib/python3.11/site-packages (from statsmodels>=0.13->ISLP) (23.1)\n",
      "Requirement already satisfied: matplotlib>=3.0 in /Users/markilodigwe/anaconda3/lib/python3.11/site-packages (from lifelines->ISLP) (3.7.2)\n",
      "Requirement already satisfied: autograd>=1.5 in /Users/markilodigwe/anaconda3/lib/python3.11/site-packages (from lifelines->ISLP) (1.6.2)\n",
      "Requirement already satisfied: autograd-gamma>=0.3 in /Users/markilodigwe/anaconda3/lib/python3.11/site-packages (from lifelines->ISLP) (0.5.0)\n",
      "Requirement already satisfied: formulaic>=0.2.2 in /Users/markilodigwe/anaconda3/lib/python3.11/site-packages (from lifelines->ISLP) (1.0.1)\n",
      "Requirement already satisfied: progressbar2<5.0.0,>=4.2.0 in /Users/markilodigwe/anaconda3/lib/python3.11/site-packages (from pygam->ISLP) (4.3.2)\n",
      "Requirement already satisfied: tqdm>=4.57.0 in /Users/markilodigwe/anaconda3/lib/python3.11/site-packages (from pytorch-lightning->ISLP) (4.65.0)\n",
      "Requirement already satisfied: PyYAML>=5.4 in /Users/markilodigwe/anaconda3/lib/python3.11/site-packages (from pytorch-lightning->ISLP) (6.0)\n",
      "Requirement already satisfied: fsspec[http]>=2022.5.0 in /Users/markilodigwe/anaconda3/lib/python3.11/site-packages (from pytorch-lightning->ISLP) (2023.4.0)\n",
      "Requirement already satisfied: typing-extensions>=4.4.0 in /Users/markilodigwe/anaconda3/lib/python3.11/site-packages (from pytorch-lightning->ISLP) (4.9.0)\n",
      "Requirement already satisfied: lightning-utilities>=0.8.0 in /Users/markilodigwe/anaconda3/lib/python3.11/site-packages (from pytorch-lightning->ISLP) (0.10.1)\n",
      "Requirement already satisfied: filelock in /Users/markilodigwe/anaconda3/lib/python3.11/site-packages (from torch->ISLP) (3.9.0)\n",
      "Requirement already satisfied: sympy in /Users/markilodigwe/anaconda3/lib/python3.11/site-packages (from torch->ISLP) (1.11.1)\n",
      "Requirement already satisfied: networkx in /Users/markilodigwe/anaconda3/lib/python3.11/site-packages (from torch->ISLP) (3.1)\n",
      "Requirement already satisfied: jinja2 in /Users/markilodigwe/anaconda3/lib/python3.11/site-packages (from torch->ISLP) (3.1.2)\n",
      "Requirement already satisfied: future>=0.15.2 in /Users/markilodigwe/anaconda3/lib/python3.11/site-packages (from autograd>=1.5->lifelines->ISLP) (0.18.3)\n",
      "Requirement already satisfied: interface-meta>=1.2.0 in /Users/markilodigwe/anaconda3/lib/python3.11/site-packages (from formulaic>=0.2.2->lifelines->ISLP) (1.3.0)\n",
      "Requirement already satisfied: wrapt>=1.0 in /Users/markilodigwe/anaconda3/lib/python3.11/site-packages (from formulaic>=0.2.2->lifelines->ISLP) (1.14.1)\n",
      "Requirement already satisfied: requests in /Users/markilodigwe/anaconda3/lib/python3.11/site-packages (from fsspec[http]>=2022.5.0->pytorch-lightning->ISLP) (2.31.0)\n",
      "Requirement already satisfied: aiohttp!=4.0.0a0,!=4.0.0a1 in /Users/markilodigwe/anaconda3/lib/python3.11/site-packages (from fsspec[http]>=2022.5.0->pytorch-lightning->ISLP) (3.8.5)\n",
      "Requirement already satisfied: setuptools in /Users/markilodigwe/anaconda3/lib/python3.11/site-packages (from lightning-utilities>=0.8.0->pytorch-lightning->ISLP) (68.0.0)\n",
      "Requirement already satisfied: contourpy>=1.0.1 in /Users/markilodigwe/anaconda3/lib/python3.11/site-packages (from matplotlib>=3.0->lifelines->ISLP) (1.0.5)\n",
      "Requirement already satisfied: cycler>=0.10 in /Users/markilodigwe/anaconda3/lib/python3.11/site-packages (from matplotlib>=3.0->lifelines->ISLP) (0.11.0)\n",
      "Requirement already satisfied: fonttools>=4.22.0 in /Users/markilodigwe/anaconda3/lib/python3.11/site-packages (from matplotlib>=3.0->lifelines->ISLP) (4.25.0)\n",
      "Requirement already satisfied: kiwisolver>=1.0.1 in /Users/markilodigwe/anaconda3/lib/python3.11/site-packages (from matplotlib>=3.0->lifelines->ISLP) (1.4.4)\n",
      "Requirement already satisfied: pillow>=6.2.0 in /Users/markilodigwe/anaconda3/lib/python3.11/site-packages (from matplotlib>=3.0->lifelines->ISLP) (10.2.0)\n",
      "Requirement already satisfied: pyparsing<3.1,>=2.3.1 in /Users/markilodigwe/anaconda3/lib/python3.11/site-packages (from matplotlib>=3.0->lifelines->ISLP) (3.0.9)\n",
      "Requirement already satisfied: six in /Users/markilodigwe/anaconda3/lib/python3.11/site-packages (from patsy>=0.5.2->statsmodels>=0.13->ISLP) (1.16.0)\n",
      "Requirement already satisfied: python-utils>=3.8.1 in /Users/markilodigwe/anaconda3/lib/python3.11/site-packages (from progressbar2<5.0.0,>=4.2.0->pygam->ISLP) (3.8.2)\n",
      "Requirement already satisfied: MarkupSafe>=2.0 in /Users/markilodigwe/anaconda3/lib/python3.11/site-packages (from jinja2->torch->ISLP) (2.1.1)\n",
      "Requirement already satisfied: mpmath>=0.19 in /Users/markilodigwe/anaconda3/lib/python3.11/site-packages (from sympy->torch->ISLP) (1.3.0)\n",
      "Requirement already satisfied: attrs>=17.3.0 in /Users/markilodigwe/anaconda3/lib/python3.11/site-packages (from aiohttp!=4.0.0a0,!=4.0.0a1->fsspec[http]>=2022.5.0->pytorch-lightning->ISLP) (22.1.0)\n",
      "Requirement already satisfied: charset-normalizer<4.0,>=2.0 in /Users/markilodigwe/anaconda3/lib/python3.11/site-packages (from aiohttp!=4.0.0a0,!=4.0.0a1->fsspec[http]>=2022.5.0->pytorch-lightning->ISLP) (2.0.4)\n",
      "Requirement already satisfied: multidict<7.0,>=4.5 in /Users/markilodigwe/anaconda3/lib/python3.11/site-packages (from aiohttp!=4.0.0a0,!=4.0.0a1->fsspec[http]>=2022.5.0->pytorch-lightning->ISLP) (6.0.2)\n",
      "Requirement already satisfied: async-timeout<5.0,>=4.0.0a3 in /Users/markilodigwe/anaconda3/lib/python3.11/site-packages (from aiohttp!=4.0.0a0,!=4.0.0a1->fsspec[http]>=2022.5.0->pytorch-lightning->ISLP) (4.0.2)\n",
      "Requirement already satisfied: yarl<2.0,>=1.0 in /Users/markilodigwe/anaconda3/lib/python3.11/site-packages (from aiohttp!=4.0.0a0,!=4.0.0a1->fsspec[http]>=2022.5.0->pytorch-lightning->ISLP) (1.8.1)\n",
      "Requirement already satisfied: frozenlist>=1.1.1 in /Users/markilodigwe/anaconda3/lib/python3.11/site-packages (from aiohttp!=4.0.0a0,!=4.0.0a1->fsspec[http]>=2022.5.0->pytorch-lightning->ISLP) (1.3.3)\n",
      "Requirement already satisfied: aiosignal>=1.1.2 in /Users/markilodigwe/anaconda3/lib/python3.11/site-packages (from aiohttp!=4.0.0a0,!=4.0.0a1->fsspec[http]>=2022.5.0->pytorch-lightning->ISLP) (1.2.0)\n"
     ]
    },
    {
     "name": "stdout",
     "output_type": "stream",
     "text": [
      "Requirement already satisfied: idna<4,>=2.5 in /Users/markilodigwe/anaconda3/lib/python3.11/site-packages (from requests->fsspec[http]>=2022.5.0->pytorch-lightning->ISLP) (3.4)\r\n",
      "Requirement already satisfied: urllib3<3,>=1.21.1 in /Users/markilodigwe/anaconda3/lib/python3.11/site-packages (from requests->fsspec[http]>=2022.5.0->pytorch-lightning->ISLP) (1.26.16)\r\n",
      "Requirement already satisfied: certifi>=2017.4.17 in /Users/markilodigwe/anaconda3/lib/python3.11/site-packages (from requests->fsspec[http]>=2022.5.0->pytorch-lightning->ISLP) (2023.11.17)\r\n"
     ]
    }
   ],
   "source": [
    "\n",
    "\n",
    "\n",
    "import numpy as np\n",
    "import pandas as pd\n",
    "from matplotlib.pyplot import subplots\n",
    "\n",
    "\n",
    "\n",
    "\n",
    "import warnings\n",
    "\n",
    "# To suppress specific type of warning\n",
    "warnings.filterwarnings(\"ignore\", category=DeprecationWarning)\n",
    "\n",
    "\n",
    "import statsmodels.api as sm\n",
    "\n",
    "\n",
    "\n",
    "\n",
    "from statsmodels.stats.outliers_influence \\\n",
    "     import variance_inflation_factor as VIF\n",
    "from statsmodels.stats.anova import anova_lm\n",
    "!pip install ISLP\n",
    "from ISLP import load_data\n",
    "from ISLP.models import (ModelSpec as MS,\n",
    "                         summarize,\n",
    "                         poly)\n"
   ]
  },
  {
   "cell_type": "code",
   "execution_count": 117,
   "id": "fd33995c",
   "metadata": {},
   "outputs": [
    {
     "data": {
      "text/html": [
       "<div>\n",
       "<style scoped>\n",
       "    .dataframe tbody tr th:only-of-type {\n",
       "        vertical-align: middle;\n",
       "    }\n",
       "\n",
       "    .dataframe tbody tr th {\n",
       "        vertical-align: top;\n",
       "    }\n",
       "\n",
       "    .dataframe thead th {\n",
       "        text-align: right;\n",
       "    }\n",
       "</style>\n",
       "<table border=\"1\" class=\"dataframe\">\n",
       "  <thead>\n",
       "    <tr style=\"text-align: right;\">\n",
       "      <th></th>\n",
       "      <th>mpg</th>\n",
       "      <th>cylinders</th>\n",
       "      <th>displacement</th>\n",
       "      <th>horsepower</th>\n",
       "      <th>weight</th>\n",
       "      <th>acceleration</th>\n",
       "      <th>year</th>\n",
       "      <th>origin</th>\n",
       "      <th>name</th>\n",
       "    </tr>\n",
       "  </thead>\n",
       "  <tbody>\n",
       "    <tr>\n",
       "      <th>0</th>\n",
       "      <td>18.0</td>\n",
       "      <td>8</td>\n",
       "      <td>307.0</td>\n",
       "      <td>130</td>\n",
       "      <td>3504</td>\n",
       "      <td>12.0</td>\n",
       "      <td>70</td>\n",
       "      <td>1</td>\n",
       "      <td>chevrolet chevelle malibu</td>\n",
       "    </tr>\n",
       "    <tr>\n",
       "      <th>1</th>\n",
       "      <td>15.0</td>\n",
       "      <td>8</td>\n",
       "      <td>350.0</td>\n",
       "      <td>165</td>\n",
       "      <td>3693</td>\n",
       "      <td>11.5</td>\n",
       "      <td>70</td>\n",
       "      <td>1</td>\n",
       "      <td>buick skylark 320</td>\n",
       "    </tr>\n",
       "    <tr>\n",
       "      <th>2</th>\n",
       "      <td>18.0</td>\n",
       "      <td>8</td>\n",
       "      <td>318.0</td>\n",
       "      <td>150</td>\n",
       "      <td>3436</td>\n",
       "      <td>11.0</td>\n",
       "      <td>70</td>\n",
       "      <td>1</td>\n",
       "      <td>plymouth satellite</td>\n",
       "    </tr>\n",
       "    <tr>\n",
       "      <th>3</th>\n",
       "      <td>16.0</td>\n",
       "      <td>8</td>\n",
       "      <td>304.0</td>\n",
       "      <td>150</td>\n",
       "      <td>3433</td>\n",
       "      <td>12.0</td>\n",
       "      <td>70</td>\n",
       "      <td>1</td>\n",
       "      <td>amc rebel sst</td>\n",
       "    </tr>\n",
       "    <tr>\n",
       "      <th>4</th>\n",
       "      <td>17.0</td>\n",
       "      <td>8</td>\n",
       "      <td>302.0</td>\n",
       "      <td>140</td>\n",
       "      <td>3449</td>\n",
       "      <td>10.5</td>\n",
       "      <td>70</td>\n",
       "      <td>1</td>\n",
       "      <td>ford torino</td>\n",
       "    </tr>\n",
       "    <tr>\n",
       "      <th>...</th>\n",
       "      <td>...</td>\n",
       "      <td>...</td>\n",
       "      <td>...</td>\n",
       "      <td>...</td>\n",
       "      <td>...</td>\n",
       "      <td>...</td>\n",
       "      <td>...</td>\n",
       "      <td>...</td>\n",
       "      <td>...</td>\n",
       "    </tr>\n",
       "    <tr>\n",
       "      <th>392</th>\n",
       "      <td>27.0</td>\n",
       "      <td>4</td>\n",
       "      <td>140.0</td>\n",
       "      <td>86</td>\n",
       "      <td>2790</td>\n",
       "      <td>15.6</td>\n",
       "      <td>82</td>\n",
       "      <td>1</td>\n",
       "      <td>ford mustang gl</td>\n",
       "    </tr>\n",
       "    <tr>\n",
       "      <th>393</th>\n",
       "      <td>44.0</td>\n",
       "      <td>4</td>\n",
       "      <td>97.0</td>\n",
       "      <td>52</td>\n",
       "      <td>2130</td>\n",
       "      <td>24.6</td>\n",
       "      <td>82</td>\n",
       "      <td>2</td>\n",
       "      <td>vw pickup</td>\n",
       "    </tr>\n",
       "    <tr>\n",
       "      <th>394</th>\n",
       "      <td>32.0</td>\n",
       "      <td>4</td>\n",
       "      <td>135.0</td>\n",
       "      <td>84</td>\n",
       "      <td>2295</td>\n",
       "      <td>11.6</td>\n",
       "      <td>82</td>\n",
       "      <td>1</td>\n",
       "      <td>dodge rampage</td>\n",
       "    </tr>\n",
       "    <tr>\n",
       "      <th>395</th>\n",
       "      <td>28.0</td>\n",
       "      <td>4</td>\n",
       "      <td>120.0</td>\n",
       "      <td>79</td>\n",
       "      <td>2625</td>\n",
       "      <td>18.6</td>\n",
       "      <td>82</td>\n",
       "      <td>1</td>\n",
       "      <td>ford ranger</td>\n",
       "    </tr>\n",
       "    <tr>\n",
       "      <th>396</th>\n",
       "      <td>31.0</td>\n",
       "      <td>4</td>\n",
       "      <td>119.0</td>\n",
       "      <td>82</td>\n",
       "      <td>2720</td>\n",
       "      <td>19.4</td>\n",
       "      <td>82</td>\n",
       "      <td>1</td>\n",
       "      <td>chevy s-10</td>\n",
       "    </tr>\n",
       "  </tbody>\n",
       "</table>\n",
       "<p>397 rows × 9 columns</p>\n",
       "</div>"
      ],
      "text/plain": [
       "      mpg  cylinders  displacement horsepower  weight  acceleration  year  \\\n",
       "0    18.0          8         307.0        130    3504          12.0    70   \n",
       "1    15.0          8         350.0        165    3693          11.5    70   \n",
       "2    18.0          8         318.0        150    3436          11.0    70   \n",
       "3    16.0          8         304.0        150    3433          12.0    70   \n",
       "4    17.0          8         302.0        140    3449          10.5    70   \n",
       "..    ...        ...           ...        ...     ...           ...   ...   \n",
       "392  27.0          4         140.0         86    2790          15.6    82   \n",
       "393  44.0          4          97.0         52    2130          24.6    82   \n",
       "394  32.0          4         135.0         84    2295          11.6    82   \n",
       "395  28.0          4         120.0         79    2625          18.6    82   \n",
       "396  31.0          4         119.0         82    2720          19.4    82   \n",
       "\n",
       "     origin                       name  \n",
       "0         1  chevrolet chevelle malibu  \n",
       "1         1          buick skylark 320  \n",
       "2         1         plymouth satellite  \n",
       "3         1              amc rebel sst  \n",
       "4         1                ford torino  \n",
       "..      ...                        ...  \n",
       "392       1            ford mustang gl  \n",
       "393       2                  vw pickup  \n",
       "394       1              dodge rampage  \n",
       "395       1                ford ranger  \n",
       "396       1                 chevy s-10  \n",
       "\n",
       "[397 rows x 9 columns]"
      ]
     },
     "execution_count": 117,
     "metadata": {},
     "output_type": "execute_result"
    }
   ],
   "source": [
    "auto_df=pd.read_csv(\"Auto.csv\")\n",
    "auto_df\n"
   ]
  },
  {
   "cell_type": "code",
   "execution_count": 118,
   "id": "b337ed22",
   "metadata": {},
   "outputs": [],
   "source": [
    "#Extra dependencies \n",
    "\n",
    "import numpy as np\n",
    "import pandas as pd\n",
    "import seaborn as sns; sns.set()\n",
    "import matplotlib.pyplot as plt\n",
    "from mpl_toolkits.mplot3d import Axes3D\n",
    "import statsmodels.api as sm\n",
    "import statsmodels.formula.api as smf\n",
    "import patsy\n",
    "from scipy import stats\n",
    "from sklearn import datasets\n",
    "from IPython.display import display, HTML"
   ]
  },
  {
   "cell_type": "code",
   "execution_count": 119,
   "id": "716d4eb5",
   "metadata": {},
   "outputs": [
    {
     "data": {
      "text/plain": [
       "\"\\ndf['mpg'] = pd.to_numeric(df['mpg'])\\ndata1=df['horsepower'].replace('?', 0)\\ndel df['horsepower']\\ndf.insert(3,'horsepower',data1)\\ndf['horsepower'] = pd.to_numeric(df['horsepower'])\\n\""
      ]
     },
     "execution_count": 119,
     "metadata": {},
     "output_type": "execute_result"
    }
   ],
   "source": [
    "#Changing all data to numeric/Removing missing values\n",
    "\n",
    "\n",
    "\n",
    "\n",
    "auto_df = auto_df.drop(auto_df[auto_df.values == '?'].index)\n",
    "auto_df = auto_df.reset_index()\n",
    "auto_df.head()\n",
    "#'''\n",
    "#df['mpg'] = pd.to_numeric(df['mpg'])\n",
    "#data1=df['horsepower'].replace('?', 0)\n",
    "#del df['horsepower']\n",
    "#df.insert(3,'horsepower',data1)\n",
    "#df['horsepower'] = pd.to_numeric(df['horsepower'])\n",
    "#'''"
   ]
  },
  {
   "cell_type": "code",
   "execution_count": 120,
   "id": "1d744c6f",
   "metadata": {},
   "outputs": [],
   "source": [
    "datatypes = {'quant': ['mpg', 'cylinders', 'displacement', 'horsepower', 'weight', 'acceleration', 'year'],\n",
    "             'qual': ['origin', 'name']}\n",
    "\n",
    "quants = auto_df[datatypes['quant']].astype(np.float_)\n",
    "\n",
    "auto_df = pd.concat([quants, auto_df[datatypes['qual']]], axis=1)"
   ]
  },
  {
   "cell_type": "code",
   "execution_count": 121,
   "id": "fecb54a2",
   "metadata": {},
   "outputs": [
    {
     "data": {
      "text/plain": [
       "\"\\nX = df['horsepower']\\nX_np = X.to_numpy(dtype=np.float64)\\ny = df['mpg']\\ny_np = y.to_numpy(dtype=np.float64)\\n##Added a constant term \\nX_np = sm.add_constant(X_np)\\n\\n\\n\\nmodel = sm.OLS(y_np, X_np)\\nresults = model.fit()\\n\\n\""
      ]
     },
     "execution_count": 121,
     "metadata": {},
     "output_type": "execute_result"
    }
   ],
   "source": [
    "\n",
    "\n",
    "\n",
    "\n",
    "#Here, putting the intercept into X with pd.concat, taking the horsepower column \n",
    "intercept_const = pd.DataFrame({'intercept': np.ones(auto_df.shape[0])})\n",
    "\n",
    "X = pd.concat([intercept_const, auto_df['horsepower']], axis=1)\n",
    "y = auto_df['mpg']\n",
    "\n",
    "\n",
    "#'''\n",
    "#X = df['horsepower']\n",
    "#X_np = X.to_numpy(dtype=np.float64)\n",
    "#y = df['mpg']\n",
    "#y_np = y.to_numpy(dtype=np.float64)\n",
    "##Added a constant term \n",
    "#X_np = sm.add_constant(X_np)\n",
    "\n",
    "\n",
    "\n",
    "#model = sm.OLS(y_np, X_np)\n",
    "#results = model.fit()\n",
    "\n",
    "#'''"
   ]
  },
  {
   "cell_type": "code",
   "execution_count": 131,
   "id": "3ee56ec9",
   "metadata": {},
   "outputs": [
    {
     "name": "stdout",
     "output_type": "stream",
     "text": [
      "                            OLS Regression Results                            \n",
      "==============================================================================\n",
      "Dep. Variable:                    mpg   R-squared:                       0.606\n",
      "Model:                            OLS   Adj. R-squared:                  0.605\n",
      "Method:                 Least Squares   F-statistic:                     599.7\n",
      "Date:                Wed, 28 Feb 2024   Prob (F-statistic):           7.03e-81\n",
      "Time:                        22:47:13   Log-Likelihood:                -1178.7\n",
      "No. Observations:                 392   AIC:                             2361.\n",
      "Df Residuals:                     390   BIC:                             2369.\n",
      "Df Model:                           1                                         \n",
      "Covariance Type:            nonrobust                                         \n",
      "==============================================================================\n",
      "                 coef    std err          t      P>|t|      [0.025      0.975]\n",
      "------------------------------------------------------------------------------\n",
      "const         39.9359      0.717     55.660      0.000      38.525      41.347\n",
      "horsepower    -0.1578      0.006    -24.489      0.000      -0.171      -0.145\n",
      "==============================================================================\n",
      "Omnibus:                       16.432   Durbin-Watson:                   0.920\n",
      "Prob(Omnibus):                  0.000   Jarque-Bera (JB):               17.305\n",
      "Skew:                           0.492   Prob(JB):                     0.000175\n",
      "Kurtosis:                       3.299   Cond. No.                         322.\n",
      "==============================================================================\n",
      "\n",
      "Notes:\n",
      "[1] Standard Errors assume that the covariance matrix of the errors is correctly specified.\n"
     ]
    },
    {
     "data": {
      "text/plain": [
       "const         39.935861\n",
       "horsepower    -0.157845\n",
       "dtype: float64"
      ]
     },
     "execution_count": 131,
     "metadata": {},
     "output_type": "execute_result"
    }
   ],
   "source": [
    "X = auto_df['horsepower']\n",
    "X = sm.add_constant(X)     # add bias constant\n",
    "y = auto_df['mpg']\n",
    "\n",
    "results = sm.OLS(y, X).fit()\n",
    "print(results.summary())\n",
    "\n",
    "summarize(results)\n",
    "#paramter[0] and [1] for slope \n",
    "results.params"
   ]
  },
  {
   "cell_type": "markdown",
   "id": "4aafbcc8",
   "metadata": {},
   "source": [
    "# iv. What is the predicted mpg associated with a horsepower of 98? What are the associated 95 % confidence and prediction intervals?"
   ]
  },
  {
   "cell_type": "code",
   "execution_count": 148,
   "id": "624c878a",
   "metadata": {},
   "outputs": [
    {
     "data": {
      "text/plain": [
       "array([24.46707715])"
      ]
     },
     "execution_count": 148,
     "metadata": {},
     "output_type": "execute_result"
    }
   ],
   "source": [
    "\n",
    "design= MS(['horsepower'])\n",
    "\n",
    "design = design.fit(auto_df)\n",
    "\n",
    "\n",
    "Predicted_X = design.transform(auto_df)\n",
    "#Set horsepower to 98\n",
    "\n",
    "\n",
    "new_df = pd.DataFrame({'horsepower':[98]})\n",
    "New_X =design.transform(new_df)\n",
    "New_X\n",
    "\n",
    "new_predictions = results.get_prediction(New_X);\n",
    "new_predictions.predicted_mean"
   ]
  },
  {
   "cell_type": "code",
   "execution_count": null,
   "id": "254a01ca",
   "metadata": {},
   "outputs": [],
   "source": []
  },
  {
   "cell_type": "code",
   "execution_count": 139,
   "id": "8a422992",
   "metadata": {},
   "outputs": [
    {
     "data": {
      "text/plain": [
       "array([24.46707715])"
      ]
     },
     "execution_count": 139,
     "metadata": {},
     "output_type": "execute_result"
    }
   ],
   "source": [
    "from statsmodels.sandbox.regression.predstd import wls_prediction_std\n",
    "from ISLP import load_data\n",
    "from ISLP.models import (ModelSpec as MS,\n",
    "                         summarize,\n",
    "                         poly)\n",
    "#Way, hardcode an array \n",
    "\n",
    "X_ex = np.array([1, 98])  # [1, horsepower], assuming horsepower is the only feature\n",
    "\n",
    "# Use the predict method of your fitted model to get the prediction (based on the hardcoded array )\n",
    "y_ex = results.predict(X_ex)\n",
    "\n",
    "\n",
    "y_ex"
   ]
  },
  {
   "cell_type": "code",
   "execution_count": 149,
   "id": "5281fc94",
   "metadata": {},
   "outputs": [
    {
     "data": {
      "text/plain": [
       "array([[23.97307896, 24.96107534]])"
      ]
     },
     "execution_count": 149,
     "metadata": {},
     "output_type": "execute_result"
    }
   ],
   "source": [
    "#95% confidence intervals \n",
    "\n",
    "new_predictions.conf_int(alpha=0.05)"
   ]
  },
  {
   "cell_type": "code",
   "execution_count": null,
   "id": "71ae2fcc",
   "metadata": {},
   "outputs": [],
   "source": []
  },
  {
   "cell_type": "markdown",
   "id": "93bb1efb",
   "metadata": {},
   "source": [
    "## Plotting "
   ]
  },
  {
   "cell_type": "code",
   "execution_count": 109,
   "id": "4e08e357",
   "metadata": {},
   "outputs": [
    {
     "data": {
      "text/plain": [
       "\"\\ndf = pd.concat([auto_df['horsepower'], auto_df['mpg']], axis=1)\\nax = sns.scatterplot(x='horsepower', y='mpg', data=df)\\nax.plot(auto_df['horsepower'], y);\""
      ]
     },
     "execution_count": 109,
     "metadata": {},
     "output_type": "execute_result"
    },
    {
     "data": {
      "image/png": "[encoded data removed]",
      "text/plain": [
       "<Figure size 640x480 with 1 Axes>"
      ]
     },
     "metadata": {},
     "output_type": "display_data"
    }
   ],
   "source": [
    "\n",
    "%matplotlib inline\n",
    "\n",
    "\n",
    "#I created a function to plot with linestel. \n",
    "def abline(ax, b, m, linestyle='--'):\n",
    "    \"Add a line with slope m and intercept b to ax\"\n",
    "    xlim = ax.get_xlim()\n",
    "    ylim = [m * xlim[0] + b, m * xlim[1] + b]\n",
    "    ax.plot(xlim, ylim, linestyle)\n",
    "\n",
    "ax = auto_df.plot.scatter('horsepower', 'mpg')\n",
    "abline(ax, results.params[0], results.params[1], linestyle='r--')\n",
    "\n",
    "    \n",
    "    \n",
    "\\\n",
    "\n",
    "    \n",
    "#'''\n",
    "#df = pd.concat([auto_df['horsepower'], auto_df['mpg']], axis=1)\n",
    "#ax = sns.scatterplot(x='horsepower', y='mpg', data=df)\n",
    "#ax.plot(auto_df['horsepower'], y);'''"
   ]
  },
  {
   "cell_type": "code",
   "execution_count": null,
   "id": "79f2b5c6",
   "metadata": {},
   "outputs": [],
   "source": []
  },
  {
   "cell_type": "code",
   "execution_count": null,
   "id": "689d25af",
   "metadata": {},
   "outputs": [],
   "source": []
  },
  {
   "cell_type": "code",
   "execution_count": null,
   "id": "e1632b7b",
   "metadata": {},
   "outputs": [],
   "source": []
  }
 ],
 "metadata": {
  "kernelspec": {
   "display_name": "Python 3 (ipykernel)",
   "language": "python",
   "name": "python3"
  },
  "language_info": {
   "codemirror_mode": {
    "name": "ipython",
    "version": 3
   },
   "file_extension": ".py",
   "mimetype": "text/x-python",
   "name": "python",
   "nbconvert_exporter": "python",
   "pygments_lexer": "ipython3",
   "version": "3.11.5"
  }
 },
 "nbformat": 4,
 "nbformat_minor": 5
}
